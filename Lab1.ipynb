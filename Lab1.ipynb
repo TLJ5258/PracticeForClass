{
  "nbformat": 4,
  "nbformat_minor": 0,
  "metadata": {
    "colab": {
      "name": "Lab1.ipynb",
      "provenance": [],
      "collapsed_sections": [],
      "authorship_tag": "ABX9TyOGMykepM6RRyO82zDFXc7i",
      "include_colab_link": true
    },
    "kernelspec": {
      "name": "python3",
      "display_name": "Python 3"
    }
  },
  "cells": [
    {
      "cell_type": "markdown",
      "metadata": {
        "id": "view-in-github",
        "colab_type": "text"
      },
      "source": [
        "<a href=\"https://colab.research.google.com/github/TLJ5258/PracticeForClass/blob/master/Lab1.ipynb\" target=\"_parent\"><img src=\"https://colab.research.google.com/assets/colab-badge.svg\" alt=\"Open In Colab\"/></a>"
      ]
    },
    {
      "cell_type": "markdown",
      "metadata": {
        "id": "72cocPdQgZjb",
        "colab_type": "text"
      },
      "source": [
        "Do you like using Jupyter Notebooks?"
      ]
    },
    {
      "cell_type": "markdown",
      "metadata": {
        "id": "SixybY9lggcE",
        "colab_type": "text"
      },
      "source": [
        "Answer"
      ]
    },
    {
      "cell_type": "markdown",
      "metadata": {
        "id": "6lgIiFlPgiBr",
        "colab_type": "text"
      },
      "source": [
        "What do you want to learn more about in Jupyter Notebooks?"
      ]
    },
    {
      "cell_type": "markdown",
      "metadata": {
        "id": "Qte5TOZFglzm",
        "colab_type": "text"
      },
      "source": [
        "Answer"
      ]
    },
    {
      "cell_type": "markdown",
      "metadata": {
        "id": "G5u0bNwwgui9",
        "colab_type": "text"
      },
      "source": [
        "![potted zz plant](https://raw.githubusercontent.com/TLJ5258/PracticeForClass/master/Images/Zamioculcas_zamiifolia_-_ZZ_plant_-_pistils_nursery_308c3a03-ad5a-4ed3-be9d-fb9439dd9ed4_1200x1553.jpg)"
      ]
    }
  ]
}